{
 "metadata": {
  "language_info": {
   "codemirror_mode": {
    "name": "ipython",
    "version": 3
   },
   "file_extension": ".py",
   "mimetype": "text/x-python",
   "name": "python",
   "nbconvert_exporter": "python",
   "pygments_lexer": "ipython3",
   "version": "3.8.3-final"
  },
  "orig_nbformat": 2,
  "kernelspec": {
   "name": "python3",
   "display_name": "Python 3"
  }
 },
 "nbformat": 4,
 "nbformat_minor": 2,
 "cells": [
  {
   "cell_type": "code",
   "execution_count": 4,
   "metadata": {},
   "outputs": [
    {
     "output_type": "stream",
     "name": "stdout",
     "text": [
      "4096\n"
     ]
    }
   ],
   "source": [
    "user_input_name=input(\"Hi, what's your name?\")      #ask their name\n",
    "no1=int(input(\"Pick a number,\" +user_input_name))   #ask for a number and make it an integer\n",
    "no2=int(input(\"Thanks, \"+user_input_name+\". Now pick another number.\")) #ask for 2nd number and make it an integer\n",
    "a=no1 + no2\n",
    "b=no1 - no2\n",
    "c=no1 / no2\n",
    "d=no1 * no2\n",
    "e=no1 ** no2\n",
    "user_input_offer=input(\"Thanks, \"+user_input_name+\". Type 'a' to add your two numbers, type 'b' to add your two numbers, type 'c' to divide your two numbers, type 'd' to multiply your numbers or type 'e' to multiply the first number to the power of the second.\")\n",
    "if user_input_offer== \"a\":\n",
    "    print(a)\n",
    "elif user_input_offer== \"b\":\n",
    "    print(b)\n",
    "elif user_input_offer== \"c\":\n",
    "    print(c)\n",
    "elif user_input_offer== \"d\":\n",
    "    print(d)\n",
    "elif user_input_offer== \"e\":\n",
    "    print(e)"
   ]
  },
  {
   "cell_type": "code",
   "execution_count": null,
   "metadata": {},
   "outputs": [],
   "source": []
  }
 ]
}