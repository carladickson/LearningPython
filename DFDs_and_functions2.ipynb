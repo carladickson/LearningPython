{
 "metadata": {
  "language_info": {
   "codemirror_mode": {
    "name": "ipython",
    "version": 3
   },
   "file_extension": ".py",
   "mimetype": "text/x-python",
   "name": "python",
   "nbconvert_exporter": "python",
   "pygments_lexer": "ipython3",
   "version": "3.8.3-final"
  },
  "orig_nbformat": 2,
  "kernelspec": {
   "name": "python3",
   "display_name": "Python 3"
  }
 },
 "nbformat": 4,
 "nbformat_minor": 2,
 "cells": [
  {
   "cell_type": "code",
   "execution_count": 1,
   "metadata": {},
   "outputs": [],
   "source": [
    "def mark_grade(mark):        #define function\n",
    "\n",
    "    if mark >= 90:\n",
    "        output = \"A*\"\n",
    "    elif mark >= 80:\n",
    "        output = \"A\"\n",
    "    elif mark >= 70:\n",
    "        output = \"B\"\n",
    "    elif mark >= 60:\n",
    "        output = \"C\"\n",
    "    elif mark < 60:\n",
    "        output = \"Fail\"\n",
    "    \n",
    "    return output "
   ]
  },
  {
   "cell_type": "code",
   "execution_count": 2,
   "metadata": {},
   "outputs": [],
   "source": [
    "def target_grade_function(target):\n",
    "\n",
    "    if target == \"A*\":\n",
    "        output = 90\n",
    "    elif target == \"A\":\n",
    "        output = 80\n",
    "    elif target == \"B\":\n",
    "        output = 70\n",
    "    elif target == \"C\":\n",
    "        output = 60\n",
    "    elif target == \"Fail\":\n",
    "        output = 59\n",
    "    \n",
    "    return output"
   ]
  },
  {
   "cell_type": "code",
   "execution_count": 8,
   "metadata": {},
   "outputs": [
    {
     "output_type": "stream",
     "name": "stdout",
     "text": [
      "Unfortunately, your target is  B  and you a achieved a grade Fail . You are below target.\n"
     ]
    }
   ],
   "source": [
    "user_target = input(\"Please enter your target grade.\")\n",
    "target_grade = target_grade_function(user_target)\n",
    "\n",
    "user_mark = int(input(\"Please enter your percentage mark.\"))\n",
    "\n",
    "grade = mark_grade(user_mark)\n",
    "\n",
    "if user_target == grade:\n",
    "    print(\"Well done, your target is \",user_target,\" and you achieved a \",grade, \". You are on target\")\n",
    "\n",
    "else:\n",
    "    if user_mark > target_grade:\n",
    "        print(\"Well done, your target is \",user_target,\" and you achieved a grade\",grade,\". You are above target.\")\n",
    "    else:\n",
    "        print(\"Unfortunately, your target is \",user_target,\" and you a achieved a grade\",grade,\". You are below target.\")\n",
    "\n"
   ]
  },
  {
   "cell_type": "code",
   "execution_count": null,
   "metadata": {},
   "outputs": [],
   "source": []
  }
 ]
}