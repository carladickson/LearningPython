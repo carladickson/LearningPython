import random               #make it import random
user_input_name = input("Hi, what's your name?")        #ask the user for their name
number = random.randint(0,10)        #generate random number between 0-10 and define it as 'number'
user_input_guess = int(input(user_input_name + " guess a number between 0-10"))        #ask the user to guess a number between 0-10
if user_input_guess == number:       #create if loop
    print("You guessed it " + user_input_name," + well done!")         #answer if guess is correct
else:
    print("Sorry, " + user_input_name + " you didn't guess correctly!")          #if their guess is wrong