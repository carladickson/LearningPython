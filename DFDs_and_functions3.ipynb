{
 "metadata": {
  "language_info": {
   "codemirror_mode": {
    "name": "ipython",
    "version": 3
   },
   "file_extension": ".py",
   "mimetype": "text/x-python",
   "name": "python",
   "nbconvert_exporter": "python",
   "pygments_lexer": "ipython3",
   "version": "3.8.3-final"
  },
  "orig_nbformat": 2,
  "kernelspec": {
   "name": "python3",
   "display_name": "Python 3"
  }
 },
 "nbformat": 4,
 "nbformat_minor": 2,
 "cells": [
  {
   "cell_type": "code",
   "execution_count": 12,
   "metadata": {},
   "outputs": [
    {
     "output_type": "stream",
     "name": "stdout",
     "text": [
      "Lovely\n",
      "Fab\n",
      "Great, it's too early otherwise! Merry Christmas\n"
     ]
    }
   ],
   "source": [
    "user_name = input(\"Hi, what's your name?\")          #ask the user their name\n",
    "question1 = input(\"Will you be putting up a Christmas tree this year?\")     #ask user if they put up a tree\n",
    "if question1 == \"no\":\n",
    "    print(\"Ok, seasons greetings\")      \n",
    "elif question1 == \"yes\":\n",
    "    print(\"Lovely\")\n",
    "\n",
    "    question2 = input(\"Have you put your tree up yet?\")     #ask next question and leave indent to continue\n",
    "    if question2 == \"yes\":\n",
    "        print(\"It's too early, but 2020 hasn't been great so have a Merry Christmas\")\n",
    "    elif question2 == \"no\":\n",
    "        print(\"Fab\")\n",
    "\n",
    "        question3 = input(\"Will you wait until December to put up your tree?\")      #next question with indent to continue\n",
    "        if question3 ==\"yes\":\n",
    "            print(\"Great, it's too early otherwise! Merry Christmas\")\n",
    "        elif question3 == \"no\":\n",
    "            print(\"It might be too early, but 2020 hasn't been great so have a Merry Christmas.\")"
   ]
  },
  {
   "cell_type": "code",
   "execution_count": null,
   "metadata": {},
   "outputs": [],
   "source": []
  }
 ]
}