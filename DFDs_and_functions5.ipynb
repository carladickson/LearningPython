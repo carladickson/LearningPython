{
 "metadata": {
  "language_info": {
   "codemirror_mode": {
    "name": "ipython",
    "version": 3
   },
   "file_extension": ".py",
   "mimetype": "text/x-python",
   "name": "python",
   "nbconvert_exporter": "python",
   "pygments_lexer": "ipython3",
   "version": "3.8.3-final"
  },
  "orig_nbformat": 2,
  "kernelspec": {
   "name": "python3",
   "display_name": "Python 3"
  }
 },
 "nbformat": 4,
 "nbformat_minor": 2,
 "cells": [
  {
   "cell_type": "code",
   "execution_count": 1,
   "metadata": {},
   "outputs": [],
   "source": [
    "def function(number1,number2):\n",
    "    \n",
    "    a = number1 + number2\n",
    "    b = number1 - number2\n",
    "    c = number1 // number2\n",
    "    d = number1 * number2\n",
    "\n",
    "    user_input_offer=input(\"Type 'a' to add your two numbers, type 'b' to add your two numbers, type 'c' to divide your two numbers or type 'd' to multiply your numbers.\")\n",
    "    if user_input_offer== \"a\":\n",
    "        output = a\n",
    "    elif user_input_offer== \"b\":\n",
    "        output = b\n",
    "    elif user_input_offer== \"c\":\n",
    "        output = c\n",
    "    elif user_input_offer== \"d\":\n",
    "        output = d\n",
    "\n",
    "    return output"
   ]
  },
  {
   "cell_type": "code",
   "execution_count": 4,
   "metadata": {},
   "outputs": [
    {
     "output_type": "stream",
     "name": "stdout",
     "text": [
      "-1\n"
     ]
    }
   ],
   "source": [
    "user_number1=int(input(\"Pick a number.\"))   #ask for a number and make it an integer\n",
    "user_number2=int(input(\"Thanks, now pick another number.\")) #ask for 2nd number and make it an integer\n",
    "\n",
    "value = function(user_number1,user_number2)\n",
    "print(value)"
   ]
  },
  {
   "cell_type": "code",
   "execution_count": null,
   "metadata": {},
   "outputs": [],
   "source": []
  }
 ]
}