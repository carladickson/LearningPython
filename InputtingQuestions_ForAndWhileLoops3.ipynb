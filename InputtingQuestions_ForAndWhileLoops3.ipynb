{
 "metadata": {
  "language_info": {
   "codemirror_mode": {
    "name": "ipython",
    "version": 3
   },
   "file_extension": ".py",
   "mimetype": "text/x-python",
   "name": "python",
   "nbconvert_exporter": "python",
   "pygments_lexer": "ipython3",
   "version": "3.8.3-final"
  },
  "orig_nbformat": 2,
  "kernelspec": {
   "name": "python3",
   "display_name": "Python 3"
  }
 },
 "nbformat": 4,
 "nbformat_minor": 2,
 "cells": [
  {
   "cell_type": "code",
   "execution_count": 1,
   "metadata": {},
   "outputs": [
    {
     "output_type": "stream",
     "name": "stdout",
     "text": [
      "Your favourite meal is Nachos to start, with Lasagna to follow and chocolate cake and custard for dessert. With a glass of white zinfandel\n"
     ]
    }
   ],
   "source": [
    "user_input_name=input(\"Hi, what's your name?\")        #ask the user their name\n",
    "user_input_starter=input(user_input_name + \" what's your favourite starter?\")           #ask their starter\n",
    "user_input_main=input(\"Sounds lovely, \" + user_input_name + \". And what's your favourite main meal?\")       #ask their fave main\n",
    "user_input_dessert=input(\"Nice. \"+user_input_name+ \", what would be your favourite dessert?\")           #ask their fave dessert\n",
    "user_input_drink=input(\"And lastly, what's your favourite drink?\")          #ask their fave drink\n",
    "print(\"Your favourite meal is \"+user_input_starter+\" to start, with \"+user_input_main+\" to follow and \"+user_input_dessert+\" for dessert. With a glass of \"+user_input_drink)"
   ]
  },
  {
   "cell_type": "code",
   "execution_count": null,
   "metadata": {},
   "outputs": [],
   "source": []
  }
 ]
}