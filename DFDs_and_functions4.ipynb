{
 "metadata": {
  "language_info": {
   "codemirror_mode": {
    "name": "ipython",
    "version": 3
   },
   "file_extension": ".py",
   "mimetype": "text/x-python",
   "name": "python",
   "nbconvert_exporter": "python",
   "pygments_lexer": "ipython3",
   "version": "3.8.3-final"
  },
  "orig_nbformat": 2,
  "kernelspec": {
   "name": "python3",
   "display_name": "Python 3"
  }
 },
 "nbformat": 4,
 "nbformat_minor": 2,
 "cells": [
  {
   "cell_type": "code",
   "execution_count": 3,
   "metadata": {},
   "outputs": [],
   "source": [
    "def function(motorbike_cost):                 #define the function\n",
    "    while motorbike_cost >= 1000:   #create while loop\n",
    "        output = \"The value of the motorbike is: £\"+ str(motorbike_cost)     #what to say\n",
    "        motorbike_cost = motorbike_cost*0.9       #decrease motorbike price by 10% \n",
    "        \n",
    "    return output\n"
   ]
  },
  {
   "cell_type": "code",
   "execution_count": 4,
   "metadata": {},
   "outputs": [
    {
     "output_type": "stream",
     "name": "stdout",
     "text": [
      "The value of the motorbike is: £1062.882\n"
     ]
    }
   ],
   "source": [
    "motorbike = int(input(\"How much does the motorbike cost?\"))\n",
    "returned_value = function(motorbike)\n",
    "print(returned_value)"
   ]
  },
  {
   "cell_type": "code",
   "execution_count": null,
   "metadata": {},
   "outputs": [],
   "source": []
  }
 ]
}