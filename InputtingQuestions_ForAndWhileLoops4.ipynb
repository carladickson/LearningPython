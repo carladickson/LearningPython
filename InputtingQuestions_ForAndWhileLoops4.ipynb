{
 "metadata": {
  "language_info": {
   "codemirror_mode": {
    "name": "ipython",
    "version": 3
   },
   "file_extension": ".py",
   "mimetype": "text/x-python",
   "name": "python",
   "nbconvert_exporter": "python",
   "pygments_lexer": "ipython3",
   "version": "3.8.3-final"
  },
  "orig_nbformat": 2,
  "kernelspec": {
   "name": "python3",
   "display_name": "Python 3"
  }
 },
 "nbformat": 4,
 "nbformat_minor": 2,
 "cells": [
  {
   "cell_type": "code",
   "execution_count": 19,
   "metadata": {
    "tags": []
   },
   "outputs": [
    {
     "output_type": "stream",
     "name": "stdout",
     "text": [
      "The value of the motorbike is: £ 2000\nThe value of the motorbike is: £ 1800\nThe value of the motorbike is: £ 1620\nThe value of the motorbike is: £ 1458\nThe value of the motorbike is: £ 1312\nThe value of the motorbike is: £ 1180\nThe value of the motorbike is: £ 1062\n"
     ]
    }
   ],
   "source": [
    "motorbike = 2000        #define price of bike\n",
    "while motorbike >= 1000:   #create while loop\n",
    "    print(\"The value of the motorbike is: £\",int(motorbike))     #what to say\n",
    "    motorbike = motorbike*0.9       #decrease motorbike price by 10%\n"
   ]
  },
  {
   "cell_type": "code",
   "execution_count": null,
   "metadata": {},
   "outputs": [],
   "source": []
  }
 ]
}