{
 "metadata": {
  "language_info": {
   "codemirror_mode": {
    "name": "ipython",
    "version": 3
   },
   "file_extension": ".py",
   "mimetype": "text/x-python",
   "name": "python",
   "nbconvert_exporter": "python",
   "pygments_lexer": "ipython3",
   "version": "3.8.3-final"
  },
  "orig_nbformat": 2,
  "kernelspec": {
   "name": "python3",
   "display_name": "Python 3"
  }
 },
 "nbformat": 4,
 "nbformat_minor": 2,
 "cells": [
  {
   "source": [
    "user_input_name = input(\"Hi, what's your name?\")        #ask the user their name\ruser_input_number = int(input(user_input_name + \" what's your favourite number between 1 and 100?\"))        #ask the user their fave no. \n",
    "joke1 = \"2020 has been the best year ever\"           #define the jokes \n",
    "joke2 = \"My boss asked me why I don't like to code in Python. I said I find it too constricting.\"\n",
    "joke3 = \"What's the best way to code the snake game? In Python\"\n",
    "if user_input_number==100:         #loop for the 'jokes'\n",
    "    print(joke1)\n",
    "elif user_input_number==50:\n",
    "    print(joke2)\n",
    "else:\n",
    "    print(joke3)\n"
   ],
   "cell_type": "code",
   "metadata": {},
   "execution_count": 6,
   "outputs": [
    {
     "output_type": "stream",
     "name": "stdout",
     "text": [
      "2020 has been the best year ever\n"
     ]
    }
   ]
  },
  {
   "cell_type": "code",
   "execution_count": null,
   "metadata": {},
   "outputs": [],
   "source": []
  }
 ]
}